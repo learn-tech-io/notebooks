{
  "cells": [
    {
      "metadata": {
        "trusted": true
      },
      "cell_type": "code",
      "source": "from azureml.core import Workspace,Experiment,Run\n\nws = Workspace.create(\n            name='learn-workspace',\n            subscription_id='6dd94319-1d81-4b8e-bc84-35dbe8d8a986', \n            resource_group='mslearn-amls',\n            create_resource_group=True,\n            location='eastus2'\n)",
      "execution_count": 1,
      "outputs": [
        {
          "output_type": "stream",
          "text": "Failure while loading azureml_run_type_providers. Failed to load entrypoint hyperdrive = azureml.train.hyperdrive:HyperDriveRun._from_run_dto with exception (azureml-telemetry 1.0.45 (/home/nbuser/anaconda3_501/lib/python3.6/site-packages), Requirement.parse('azureml-telemetry==1.0.48.*')).\n",
          "name": "stderr"
        },
        {
          "output_type": "stream",
          "text": "Performing interactive authentication. Please follow the instructions on the terminal.\nTo sign in, use a web browser to open the page https://microsoft.com/devicelogin and enter the code FL2GRK2VZ to authenticate.\nInteractive authentication successfully completed.\n",
          "name": "stdout"
        },
        {
          "output_type": "stream",
          "text": "UserWarning: The resource group doesn't exist or was not provided. AzureML SDK is creating a resource group=mslearn-amls in location=eastus2 using subscription=6dd94319-1d81-4b8e-bc84-35dbe8d8a986.\n",
          "name": "stderr"
        },
        {
          "output_type": "stream",
          "text": "Deploying KeyVault with name learnworkeyvaultf86eb1e5.\nDeploying StorageAccount with name learnworstoragef002ac766.\nDeploying AppInsights with name learnworinsights90124b67.\nDeployed AppInsights with name learnworinsights90124b67. Took 24.55 seconds.\nDeployed StorageAccount with name learnworstoragef002ac766. Took 33.91 seconds.\nDeployed KeyVault with name learnworkeyvaultf86eb1e5. Took 34.87 seconds.\nDeploying Workspace with name learn-workspace.\nDeployed Workspace with name learn-workspace. Took 53.99 seconds.\n",
          "name": "stdout"
        }
      ]
    },
    {
      "metadata": {
        "trusted": true
      },
      "cell_type": "code",
      "source": "",
      "execution_count": null,
      "outputs": []
    }
  ],
  "metadata": {
    "kernelspec": {
      "name": "python36",
      "display_name": "Python 3.6",
      "language": "python"
    },
    "language_info": {
      "mimetype": "text/x-python",
      "nbconvert_exporter": "python",
      "name": "python",
      "pygments_lexer": "ipython3",
      "version": "3.6.6",
      "file_extension": ".py",
      "codemirror_mode": {
        "version": 3,
        "name": "ipython"
      }
    }
  },
  "nbformat": 4,
  "nbformat_minor": 2
}