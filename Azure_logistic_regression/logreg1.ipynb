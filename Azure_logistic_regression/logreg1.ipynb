{
  "cells": [
    {
      "metadata": {
        "trusted": true
      },
      "cell_type": "code",
      "source": "import os\nimport urllib.request\nimport gzip\nimport numpy as np\nimport struct\nimport matplotlib.pyplot as plt\nimport numpy as np\nfrom sklearn.linear_model import LogisticRegression\n\n#create a folder for the dataset\nos.makedirs('./data', exist_ok = True)\n\n# load dataset to the directory--as you can see, you must load train sets and test sets separately\nurllib.request.urlretrieve('http://yann.lecun.com/exdb/mnist/train-images-idx3-ubyte.gz', filename='./data/train-images.gz')\nurllib.request.urlretrieve('http://yann.lecun.com/exdb/mnist/train-labels-idx1-ubyte.gz', filename='./data/train-labels.gz')\nurllib.request.urlretrieve('http://yann.lecun.com/exdb/mnist/t10k-images-idx3-ubyte.gz', filename='./data/test-images.gz')\nurllib.request.urlretrieve('http://yann.lecun.com/exdb/mnist/t10k-labels-idx1-ubyte.gz', filename='./data/test-labels.gz')\n\n# load compressed MNIST gz files and return numpy arrays\ndef load_data(filename, label=False):\n    with gzip.open(filename) as gz:\n        struct.unpack('I', gz.read(4))\n        n_items = struct.unpack('>I', gz.read(4))\n        if not label:\n            n_rows = struct.unpack('>I', gz.read(4))[0]\n            n_cols = struct.unpack('>I', gz.read(4))[0]\n            res = np.frombuffer(gz.read(n_items[0] * n_rows * n_cols), dtype=np.uint8)\n            res = res.reshape(n_items[0], n_rows * n_cols)\n        else:\n            res = np.frombuffer(gz.read(n_items[0]), dtype=np.uint8)\n            res = res.reshape(n_items[0], 1)\n    return res\n\n\n# one-hot encode a 1-D array\ndef one_hot_encode(array, num_of_classes):\n    return np.eye(num_of_classes)[array.reshape(-1)]\n\n# To help the model converge faster, shrink the intensity values (X) from 0-255 to 0-1\n\nX_train = load_data('./data/train-images.gz', False) / 255.0\ny_train = load_data('./data/train-labels.gz', True).reshape(-1)\n\nX_test = load_data('./data/test-images.gz', False) / 255.0\ny_test = load_data('./data/test-labels.gz', True).reshape(-1)\n\ncount = 0\nsample_size = 30\nplt.figure(figsize = (16, 6))\nfor i in np.random.permutation(X_train.shape[0])[:sample_size]:\n    count = count + 1\n    plt.subplot(1, sample_size, count)\n    plt.axhline('')\n    plt.axvline('')\n    plt.text(x=10, y=-10, s=y_train[i], fontsize=18)\n    plt.imshow(X_train[i].reshape(28, 28), cmap=plt.cm.Greys)\n    \nplt.show()\n\n#load the model\nclf = LogisticRegression()\n#fit the model\nclf.fit(X_train, y_train)\n\n#evaluate the model by using a test set\ny_hat = clf.predict(X_test)\n#print the accuracy\nprint(np.average(y_hat == y_test))",
      "execution_count": 1,
      "outputs": [
        {
          "output_type": "stream",
          "text": "/home/nbuser/anaconda3_501/lib/python3.6/site-packages/matplotlib/font_manager.py:229: UserWarning: Matplotlib is building the font cache using fc-list. This may take a moment.\n  'Matplotlib is building the font cache using fc-list. '\n",
          "name": "stderr"
        },
        {
          "output_type": "display_data",
          "data": {
            "text/plain": "<Figure size 1600x600 with 30 Axes>"
          },
          "metadata": {}
        },
        {
          "output_type": "stream",
          "text": "/home/nbuser/anaconda3_501/lib/python3.6/site-packages/sklearn/linear_model/logistic.py:433: FutureWarning: Default solver will be changed to 'lbfgs' in 0.22. Specify a solver to silence this warning.\n  FutureWarning)\n/home/nbuser/anaconda3_501/lib/python3.6/site-packages/sklearn/linear_model/logistic.py:460: FutureWarning: Default multi_class will be changed to 'auto' in 0.22. Specify the multi_class option to silence this warning.\n  \"this warning.\", FutureWarning)\n",
          "name": "stderr"
        },
        {
          "output_type": "stream",
          "text": "0.9201\n",
          "name": "stdout"
        }
      ]
    },
    {
      "metadata": {
        "trusted": true
      },
      "cell_type": "code",
      "source": "",
      "execution_count": null,
      "outputs": []
    },
    {
      "metadata": {
        "trusted": true
      },
      "cell_type": "code",
      "source": "",
      "execution_count": null,
      "outputs": []
    }
  ],
  "metadata": {
    "kernelspec": {
      "name": "python36",
      "display_name": "Python 3.6",
      "language": "python"
    },
    "language_info": {
      "mimetype": "text/x-python",
      "nbconvert_exporter": "python",
      "name": "python",
      "pygments_lexer": "ipython3",
      "version": "3.6.6",
      "file_extension": ".py",
      "codemirror_mode": {
        "version": 3,
        "name": "ipython"
      }
    }
  },
  "nbformat": 4,
  "nbformat_minor": 2
}