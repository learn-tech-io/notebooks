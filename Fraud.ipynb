{
  "cells": [
    {
      "metadata": {},
      "cell_type": "markdown",
      "source": "The goal is to find where credit card fraud is happening. \n\nHere we apply a four line python algorithm to data in a csv file. \n\nThe dataset in the ‘fraud_data.csv’ file contains the following features: First name, Last name, Transaction amount, country of card issue, and country in which the transaction took place.\n\nThe last column, ‘Fraud_reported’ is the vector.\n\nThe last line, \"print (subset.groupby...\" prints the countries with fraud detected and the number of occurances"
    },
    {
      "metadata": {
        "trusted": true
      },
      "cell_type": "code",
      "source": "import pandas as pd\n\ndata = pd.read_csv('fraud_data.csv')\n\nsubset = data[data['Fraud_reported'] == 'Yes']\n\nprint (subset.groupby(['Country_of_transaction'])['Fraud_reported'].count())",
      "execution_count": 1,
      "outputs": [
        {
          "output_type": "stream",
          "text": "Country_of_transaction\nCanada     1\nFrance     1\nRussia    10\nName: Fraud_reported, dtype: int64\n",
          "name": "stdout"
        }
      ]
    },
    {
      "metadata": {
        "trusted": true
      },
      "cell_type": "code",
      "source": "",
      "execution_count": null,
      "outputs": []
    }
  ],
  "metadata": {
    "language_info": {
      "mimetype": "text/x-python",
      "nbconvert_exporter": "python",
      "name": "python",
      "pygments_lexer": "ipython3",
      "version": "3.6.6",
      "file_extension": ".py",
      "codemirror_mode": {
        "version": 3,
        "name": "ipython"
      }
    },
    "kernelspec": {
      "name": "python36",
      "display_name": "Python 3.6",
      "language": "python"
    }
  },
  "nbformat": 4,
  "nbformat_minor": 2
}